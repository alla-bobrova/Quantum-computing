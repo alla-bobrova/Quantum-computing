{
 "cells": [
  {
   "cell_type": "markdown",
   "metadata": {},
   "source": [
    "## Literature"
   ]
  },
  {
   "cell_type": "markdown",
   "metadata": {},
   "source": [
    "1. Львовский Александр. Отличная квантовая механика. Учебное пособие в 2 частях.\n",
    "2. Кельберт М.Я., Сухов Ю.М. Вероятность и статистика в примерах и задачах. Том 1 — М., 2007. - 456 с.\n",
    "3. Розанов Ю.А. Лекции по теории вероятностей. – М., 2008. – 136 с.\n",
    "4. Умнов А.Е. Аналитическая геометрия и линейная алгебра.\n",
    "5. Michael A. Nielsen & Isaac L. Chuang, Quantum Computation and Quantum Information.\n",
    "6. Mark Fox, Quantum Optics. An Introduction.\n",
    "7. Т. Кормен, Ч. Лейсерзон, Р. Риверст, К. Штайн - Алгоритмы. Построение и анализ (2013)\n"
   ]
  }
 ],
 "metadata": {
  "language_info": {
   "name": "python"
  }
 },
 "nbformat": 4,
 "nbformat_minor": 2
}
